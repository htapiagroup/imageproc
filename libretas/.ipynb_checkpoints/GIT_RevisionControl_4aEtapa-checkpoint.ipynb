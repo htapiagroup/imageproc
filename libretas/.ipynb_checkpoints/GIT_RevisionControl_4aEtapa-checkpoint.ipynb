{
 "metadata": {
  "name": "",
  "signature": "sha256:e03cc8f97e929ba7efb89237bdd1696bed43de3ba88f16463fba94b763a72fb9"
 },
 "nbformat": 3,
 "nbformat_minor": 0,
 "worksheets": [
  {
   "cells": [
    {
     "cell_type": "markdown",
     "metadata": {},
     "source": [
      "# Notas para usar _git_ desde las libretas\n",
      "\n",
      "##4a Etapa: Colaboracion\n",
      "\n",
      "*Revision control software* o Software de Control de Rrevisiones (**SCR**) es \u00fatil en el control de cualquier contenido digital.\n",
      "\n",
      "Esta libreta presupone que se han ejecutado y entendido los comandos de las libretas [GIT_RevisionControl_1aEtapa](GIT_RevisionControl_1aEtapa.ipynb), [GIT_RevisionControl_2aEtapa](GIT_RevisionControl_2aEtapa.ipynb) y [GIT_RevisionControl_3aEtapa](GIT_RevisionControl_3aEtapa.ipynb)."
     ]
    },
    {
     "cell_type": "markdown",
     "metadata": {},
     "source": [
      "Esta parte esta disenada para los estudiantes del grupo de investigacion. Mostraremos el flujo principal de trabajo para colaborar en un proyecto en el que *los participantes tienen los mismo privilegios en el mismo repositorio*.\n",
      "\n",
      "Dentro del espacio `htapiagroup` creare un repositorio por cada proyecto: \n",
      "    * imageproc\n",
      "    * gputest\n",
      "    * clumps\n",
      "De acuerdo a lo que aprendieron al estudiar las libretas, estas corresponden a los `master branch`. Su tarea es seguir estas notas para crear sus propias ramas en los repositorios donde desarrollaran su trabajo de tesis. \n",
      "\n",
      "Cada uno de ustedes accedera al repositorio que le corresponde de acuerdo a su tema de tesis. De este modo habra dos personas compartiendo repositorio, ustedes (U) y yo (Y). Yo creare el repositorio con el contenido de estas libretas, ustedes lo clonaran (Ver libreta [GIT_RevisionControl_3aEtapa](GIT_RevisionControl_3aEtapa.ipynb) y haran cambios locales (en su computadora) y los \"empujaran\" al repositorio en linea, me notificara y yo \"jalare\" los cambios a mi repositorio propio.\n",
      "\n",
      "Despues aprenderemos juntos a actualizar el repositorio con cambios a los documentos. \n",
      "\n",
      "A continuacion las instrucciones que use para crear el repositorio imageproc en el grupo y mi propia rama dentro del mismo. Recuerden que si lo hacen desde las libretas deben cuidar el cambio al directorio apropiado. En mi caso"
     ]
    },
    {
     "cell_type": "code",
     "collapsed": false,
     "input": [
      "%%bash\n",
      "\n",
      "git init imageproc"
     ],
     "language": "python",
     "metadata": {},
     "outputs": [
      {
       "metadata": {},
       "output_type": "pyout",
       "prompt_number": 2,
       "text": [
        "u'/home/htapia/LocalRepos/lania.research/htapiagroup/imageproc/src'"
       ]
      }
     ],
     "prompt_number": 2
    },
    {
     "cell_type": "code",
     "collapsed": false,
     "input": [
      "ls"
     ],
     "language": "python",
     "metadata": {},
     "outputs": [
      {
       "output_type": "stream",
       "stream": "stdout",
       "text": [
        "\u001b[0m\u001b[01;34mgitdemo\u001b[0m/                           GIT_RevisionControl_3aEtapa.ipynb  No mas pretextos.ipynb\r\n",
        "GIT_RevisionControl_1aEtapa.ipynb  GIT_RevisionControl_4aEtapa.ipynb  \u001b[01;34mprueba2\u001b[0m/\r\n",
        "GIT_RevisionControl_2aEtapa.ipynb  imagenContornos_0.py               vision.md\r\n"
       ]
      }
     ],
     "prompt_number": 3
    },
    {
     "cell_type": "markdown",
     "metadata": {},
     "source": [
      "##Referencias\n",
      "###Material introductorio\n",
      "Existen muchos buenos tutoriales de Git. Aqui hay una lista corta (en ingles) de algunos:\n",
      "\n",
      "1. Lo mas basico: [git - the simple guide](http://rogerdudler.github.com/git-guide). Muy rapido de leer\n",
      "\n",
      "1.  Lo mas conciso: [Git Reference](http://gitref.org): compacto pero con muchas de las ideas fundamentales.\n",
      "\n",
      "1. Otro recurso completo: [Understanding Git\n",
      "Conceptually](http://www.sbf5.com/~cduan/technical/git).\n",
      "\n",
      "1.  Para mas detalles:[Pro\n",
      "    Git](http://progit.org/book) libro en linea, o partes de [Git community book](http://book.git-scm.com).\n",
      "\n",
      "Para un comienzo rapido, este [tutorial visual de git](http://www.ralfebert.de/blog/tools/visual_git_tutorial_1) puede ser suficiente.\n",
      "\n",
      "Para usuarios de windows, [una guia ilustrada de Git en Windows](http://nathanj.github.com/gitguide/tour.html) puede ser util.\n",
      "\n",
      "Hojas de referencia:   Dos diferentes\n",
      "    [hojas](http://zrusin.blogspot.com/2007/09/git-cheat-sheet.html) de \n",
      "    [referenci](http://jan-krueger.net/development/git-cheat-sheet-extended-edition)\n",
      "    en formato PDF que pueden tenerse a la mano como referencia."
     ]
    },
    {
     "cell_type": "code",
     "collapsed": false,
     "input": [],
     "language": "python",
     "metadata": {},
     "outputs": []
    }
   ],
   "metadata": {}
  }
 ]
}